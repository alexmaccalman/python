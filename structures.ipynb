{
 "cells": [
  {
   "cell_type": "markdown",
   "metadata": {},
   "source": [
    "## Dictionaries    \n",
    "[tutorial](https://www.tutorialsteacher.com/python/python-dictionary)  "
   ]
  },
  {
   "cell_type": "code",
   "execution_count": null,
   "metadata": {},
   "outputs": [],
   "source": [
    "a = {'apple': 'fruit', 'beetroot': 'vegetable', 'cake': 'dessert'}\n",
    "# add a key item\n",
    "a['dougnut'] = 'snack'\n",
    "print(a['apple'])\n",
    "# print(a[0]) this gives an error\n",
    "dict1 = {'a': 1, 'b': 2, 'c': 3, 'd': 4}\n",
    "print(dict1.keys())\n",
    "print(dict1.values())\n",
    "print(dict1.items())\n",
    "\n",
    "# Safely finding a key\n",
    "# find key for 'a\n",
    "print(dict1.get('a')) \n",
    "# find key that's not in\n",
    "print(dict1.get('e', 'Not in dic'))\n",
    "\n",
    "# pop safely removes a value by popping a key to save to new variable\n",
    "item = dict1.pop('d')\n",
    "\n",
    "# or del item\n",
    "del dict1['c']\n",
    "\n",
    "# add them back\n",
    "dict1['c'] = 3\n",
    "# update with an array of a tuple\n",
    "dict1.update([('d',item)])\n",
    "print(dict1)\n",
    "# length of dictionary\n",
    "print(len(dict1))\n",
    "# check type \n",
    "print(type(dict1))\n",
    "# check if key is in dictionary\n",
    "print('d' in dict1)\n",
    "print('x' in dict1)\n",
    "\n",
    "# to clear dictionary\n",
    "dict1.clear()\n",
    "print(dict1)\n",
    "# to delete the whole dictionary\n",
    "del dict1"
   ]
  },
  {
   "cell_type": "markdown",
   "metadata": {},
   "source": [
    "| Method            | Description                                                                                                                                                                                        |\n",
    "|-------------------|----------------------------------------------------------------------------------------------------------------------------------------------------------------------------------------------------|\n",
    "| dict.clear()      | Removes all the key-value pairs from the dictionary.                                                                                                                                               |\n",
    "| dict.copy()       | Returns a shallow copy of the dictionary.                                                                                                                                                          |\n",
    "| dict.fromkeys()   | Creates a new dictionary from the given iterable (string, list, set, tuple) as keys and with the specified value.                                                                                  |\n",
    "| dict.get()        | Returns the value of the specified key.                                                                                                                                                            |\n",
    "| dict.items()      | Returns a dictionary view object that provides a dynamic view of dictionary elements as a list of key-value pairs. This view object changes when the dictionary changes.                           |\n",
    "| dict.keys()       | Returns a dictionary view object that contains the list of keys of the dictionary.                                                                                                                 |\n",
    "| dict.pop()        | Removes the key and return its value. If a key does not exist in the dictionary, then returns the default value if specified, else throws a KeyError.                                              |\n",
    "| dict.popitem()    | Removes and return a tuple of (key, value) pair from the dictionary. Pairs are returned in Last In First Out (LIFO) order.                                                                         |\n",
    "| dict.setdefault() | Returns the value of the specified key in the dictionary. If the key not found, then it adds the key with the specified defaultvalue. If the defaultvalue is not specified then it set None value. |\n",
    "| dict.update()     | Updates the dictionary with the key-value pairs from another dictionary or another iterable such as tuple having key-value pairs.                                                                  |\n",
    "| dict.values()     | Returns the dictionary view object that provides a dynamic view of all the values in the dictionary. This view object changes when the dictionary changes.                                         |"
   ]
  },
  {
   "cell_type": "markdown",
   "metadata": {},
   "source": [
    "# Template for dic comprehension\n",
    "dict_variable = {key:value for (key,value) in dictonary.items()}"
   ]
  },
  {
   "cell_type": "code",
   "execution_count": null,
   "metadata": {},
   "outputs": [],
   "source": [
    "dict1 = {'a': 1, 'b': 2, 'c': 3, 'd': 4, 'e': 5}\n",
    "#double it\n",
    "double_dict1 = {k:v*2 for k,v in dict1.items()}\n",
    "print(double_dict1)"
   ]
  },
  {
   "cell_type": "markdown",
   "metadata": {},
   "source": [
    "using the map function "
   ]
  },
  {
   "cell_type": "code",
   "execution_count": null,
   "metadata": {},
   "outputs": [],
   "source": [
    "fahrenheit = {'t1':-30, 't2':-20, 't3':-10, 't4':0}\n",
    "\n",
    "celsius = list(map(lambda x: (float(5)/9)*(x-32), fahrenheit.values()))\n",
    "print(celsius)\n",
    "# make a dic using zip\n",
    "celsius_dict = dict(zip(fahrenheit.keys(), celsius))\n",
    "celsius_dict\n",
    "# do the same thing with a dic comprehension\n",
    "cel_dict = {k:(float(5)/9)*(v-32) for (k,v) in fahrenheit.items()}"
   ]
  },
  {
   "cell_type": "markdown",
   "metadata": {},
   "source": [
    "# Adding conditions to dictionaries"
   ]
  },
  {
   "cell_type": "code",
   "execution_count": null,
   "metadata": {},
   "outputs": [],
   "source": [
    "# adds conditon when value is > -30\n",
    "fah_condition = {k:v for (k,v) in fahrenheit.items() if v > -30}\n",
    "# for mutliple conditions when value is > -30 and < 0\n",
    "fah_condition = {k:v for (k,v) in fahrenheit.items() if v > -30 if v < 0}\n",
    "# for if-else inside the operator at beginning\n",
    "fah_neg = {k:('neg' if v <0 else 'pos') for (k,v) in fahrenheit.items()}"
   ]
  },
  {
   "cell_type": "markdown",
   "metadata": {},
   "source": [
    "# Mutli dimentional dictioanries    "
   ]
  },
  {
   "cell_type": "code",
   "execution_count": null,
   "metadata": {},
   "outputs": [],
   "source": [
    "d1={\"name\":\"Steve\",\"age\":25, \"marks\":60}\n",
    "d2={\"name\":\"Anil\",\"age\":23, \"marks\":75}\n",
    "d3={\"name\":\"Asha\", \"age\":20, \"marks\":70}\n",
    "\n",
    "students = {1: d1, 2: d2, 3: d3}\n",
    "print(students)\n",
    "# access multi-dimensional dict\n",
    "print(students.keys())\n",
    "print(students[1].keys())\n",
    "print(students[1]['name'])"
   ]
  },
  {
   "cell_type": "markdown",
   "metadata": {},
   "source": [
    "# Tuples\n",
    "immutable sequences"
   ]
  },
  {
   "cell_type": "code",
   "execution_count": 15,
   "metadata": {},
   "outputs": [
    {
     "data": {
      "text/plain": [
       "1"
      ]
     },
     "execution_count": 15,
     "metadata": {},
     "output_type": "execute_result"
    }
   ],
   "source": [
    "tup = 4,5,6\n",
    "nested_tup = (4,5,6), (7,8) # has a 2 indexes\n",
    "nested_tup[1]\n",
    "nested_tup[1][0] # shows the 7\n",
    "# tuples can have different tpes inside\n",
    "tup = tuple(['foo', [1,2], True])\n",
    "# can't modify 'foo' or True, but can modify an object inside that is mutable list a list\n",
    "tup[1].append(3) # adds 3 to the list in index 1\n",
    "# to concatonate tuples add them\n",
    "(4,None, 'foo') + (6,0) + ('bar',) # notice the comma after last tuple\n",
    "# multiplying add the tuples\n",
    "tup * 4\n",
    "#count specified items in tuple\n",
    "tup.count('foo')"
   ]
  },
  {
   "cell_type": "markdown",
   "metadata": {},
   "source": [
    "# Lists"
   ]
  },
  {
   "cell_type": "code",
   "execution_count": 24,
   "metadata": {},
   "outputs": [
    {
     "data": {
      "text/plain": [
       "[3, 5]"
      ]
     },
     "execution_count": 24,
     "metadata": {},
     "output_type": "execute_result"
    }
   ],
   "source": [
    "tup = ('foo', 'bar', 'baz')\n",
    "b_list = list(tup)\n",
    "# replace item\n",
    "b_list[1] = 'peekaboo'\n",
    "# append to end\n",
    "b_list.append('dwarf')\n",
    "# insert item, shifts everything, very expensive\n",
    "b_list.insert(1, 'red')\n",
    "# remove item\n",
    "b_list.pop(2)\n",
    "b_list.append('foo')\n",
    "# removew method remove first value found\n",
    "b_list.remove('foo')\n",
    "# to check if in a list\n",
    "'foo' in b_list\n",
    "'dwarf' not in b_list\n",
    "a = [7,2,5,1,3]\n",
    "# sort a list\n",
    "a.sort()\n",
    "# or pas a sort key\n",
    "b_list.sort(key=len)\n",
    "#slicing\n",
    "a[2:4]"
   ]
  },
  {
   "cell_type": "code",
   "execution_count": null,
   "metadata": {},
   "outputs": [],
   "source": []
  }
 ],
 "metadata": {
  "interpreter": {
   "hash": "b3ba2566441a7c06988d0923437866b63cedc61552a5af99d1f4fb67d367b25f"
  },
  "kernelspec": {
   "display_name": "Python 3.8.8 ('base')",
   "language": "python",
   "name": "python3"
  },
  "language_info": {
   "codemirror_mode": {
    "name": "ipython",
    "version": 3
   },
   "file_extension": ".py",
   "mimetype": "text/x-python",
   "name": "python",
   "nbconvert_exporter": "python",
   "pygments_lexer": "ipython3",
   "version": "3.8.8"
  },
  "orig_nbformat": 4
 },
 "nbformat": 4,
 "nbformat_minor": 2
}
