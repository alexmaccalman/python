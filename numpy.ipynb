{
 "cells": [
  {
   "cell_type": "markdown",
   "metadata": {},
   "source": [
    "# Numpy"
   ]
  },
  {
   "cell_type": "code",
   "execution_count": 33,
   "metadata": {},
   "outputs": [
    {
     "data": {
      "text/plain": [
       "dtype('float64')"
      ]
     },
     "execution_count": 33,
     "metadata": {},
     "output_type": "execute_result"
    }
   ],
   "source": [
    "import numpy as np\n",
    "data = np.random.randn(2,3) # create some random data, two rows, 3 col array\n",
    "data\n",
    "data *10 # scale\n",
    "data + data # add to itself\n",
    "data.shape # get dimensions\n",
    "data.dtype # get type"
   ]
  },
  {
   "cell_type": "markdown",
   "metadata": {},
   "source": [
    "## Creating ndarrays"
   ]
  },
  {
   "cell_type": "code",
   "execution_count": 34,
   "metadata": {},
   "outputs": [
    {
     "data": {
      "text/plain": [
       "array([1, 2, 3], dtype=int64)"
      ]
     },
     "execution_count": 34,
     "metadata": {},
     "output_type": "execute_result"
    }
   ],
   "source": [
    "data1 = [6, 7.5, 8, 0, 1] # this is a list\n",
    "arr1 = np.array(data1) # this is an array, makes everything a float\n",
    "arr1\n",
    "data2 = [[1, 2, 3, 4], [5, 6, 7, 8]]\n",
    "type(data2) # this is a 2d array\n",
    "arr2 = np.array(data2) # create a 2d array\n",
    "arr2.ndim # check the number of dimensions\n",
    "arr2.shape # checks shape\n",
    "arr1.dtype # check type\n",
    "arr2.dtype\n",
    "# create all zero arrays\n",
    "np.zeros(10) # 10 elements\n",
    "np.zeros((2,3)) # to create multi-dim, use a tuple\n",
    "np.zeros((2,3,2))\n",
    "np.arange(15) # create a seq of ints 0 through 14\n",
    "arr1 = np.array([1,2,3], dtype= np.float64) # specifies the data type\n",
    "arr1\n",
    "arr1.dtype\n",
    "intarr = arr1.astype('int64') # cast an exsiting array\n",
    "intarr "
   ]
  },
  {
   "cell_type": "code",
   "execution_count": null,
   "metadata": {},
   "outputs": [],
   "source": []
  }
 ],
 "metadata": {
  "interpreter": {
   "hash": "cc897af4fc6401c11359697fcbb52d9351578d8478d87d3dbab7c5724e632931"
  },
  "kernelspec": {
   "display_name": "Python 3.8.8 ('base')",
   "language": "python",
   "name": "python3"
  },
  "language_info": {
   "codemirror_mode": {
    "name": "ipython",
    "version": 3
   },
   "file_extension": ".py",
   "mimetype": "text/x-python",
   "name": "python",
   "nbconvert_exporter": "python",
   "pygments_lexer": "ipython3",
   "version": "3.8.8"
  },
  "orig_nbformat": 4
 },
 "nbformat": 4,
 "nbformat_minor": 2
}
