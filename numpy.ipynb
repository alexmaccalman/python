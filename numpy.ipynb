{
 "cells": [
  {
   "cell_type": "markdown",
   "metadata": {},
   "source": [
    "# Numpy"
   ]
  },
  {
   "cell_type": "code",
   "execution_count": null,
   "metadata": {},
   "outputs": [],
   "source": [
    "import numpy as np\n",
    "data = np.random.randn(2,3) # create some random data, two rows, 3 col array\n",
    "data\n",
    "data *10 # scale\n",
    "data + data # add to itself\n",
    "data.shape # get dimensions\n",
    "data.dtype # get type"
   ]
  },
  {
   "cell_type": "markdown",
   "metadata": {},
   "source": [
    "## Creating ndarrays"
   ]
  },
  {
   "cell_type": "code",
   "execution_count": null,
   "metadata": {},
   "outputs": [],
   "source": [
    "data1 = [6, 7.5, 8, 0, 1] # this is a list\n",
    "arr1 = np.array(data1) # this is an array, makes everything a float\n",
    "arr1\n",
    "data2 = [[1, 2, 3, 4], [5, 6, 7, 8]]\n",
    "type(data2) # this is a 2d array\n",
    "arr2 = np.array(data2) # create a 2d array\n",
    "arr2.ndim # check the number of dimensions\n",
    "arr2.shape # checks shape\n",
    "arr1.dtype # check type\n",
    "arr2.dtype\n",
    "# create all zero arrays\n",
    "np.zeros(10) # 10 elements\n",
    "np.zeros((2,3)) # to create multi-dim, use a tuple\n",
    "np.zeros((2,3,2))\n",
    "np.arange(15) # create a seq of ints 0 through 14\n",
    "arr1 = np.array([1,2,3], dtype= np.float64) # specifies the data type\n",
    "arr1\n",
    "arr1.dtype\n",
    "intarr = arr1.astype('int64') # cast an exsiting array, this always creates a new array, a copy of the data\n",
    "intarr "
   ]
  },
  {
   "cell_type": "markdown",
   "metadata": {},
   "source": [
    "### Arithmetic with NumPy Arrays, indexing a slicing\n",
    "allows for batch operations rather than loops, something called vectorization"
   ]
  },
  {
   "cell_type": "code",
   "execution_count": null,
   "metadata": {},
   "outputs": [],
   "source": [
    "arr = np.array([[1., 2., 3.], [4., 5., 6.]])\n",
    "arr * arr\n",
    "# comparisons between same size arrays yeild boolean arrays\n",
    "arr2 = np.array([[0., 4., 1.], [7., 2., 12.]])\n",
    "arr2 > arr\n",
    "arr3 = np.arange(10)\n",
    "arr3[5:8] = 12\n",
    "arr3\n",
    "# we can assign a slice to a portion of another array can control it's assignment withthat new slice\n",
    "arr_slice = arr3[5:8]\n",
    "arr_slice\n",
    "#when we change the slcied it will be reflected in the origial array\n",
    "arr_slice[1] = 12345 # second element in the slice\n",
    "arr3\n",
    "arr_slice[:] = 64 # a \"bare\" [:] will assign values in the whole array\n",
    "arr3 \n",
    "\n",
    "# 2D array\n",
    "arr2d = np.array([[1, 2, 3], [4, 5, 6], [7, 8, 9]])\n",
    "arr2d[2] # index third element\n",
    "arr2d[1, :2] # gets second element and only the first and second elment within the second dimension\n"
   ]
  },
  {
   "cell_type": "markdown",
   "metadata": {},
   "source": [
    "### Boolean indexing\n",
    "selecting data with boolean indexing creates a copy of the data\n",
    "boolean arrays must be the smae dimentionas the array we want to filter the false's out"
   ]
  },
  {
   "cell_type": "code",
   "execution_count": null,
   "metadata": {},
   "outputs": [],
   "source": [
    "names = np.array(['Bob', 'Joe', 'Will', 'Bob', 'Will', 'Joe', 'Joe'])\n",
    "data = np.random.randn(7, 4) # generate sme random data\n",
    "names == 'Bob' # this comparison creates an array of booleans where there is a 'Bob' entry\n",
    "data[names == 'Bob'] # this selects the subset of rows from the comparison array that are True\n",
    "data[names == 'Bob', 2:] # this grabs the third, fourth, and so on columsn from subset\n",
    "data[~(names == 'Bob')] # the ~ operator inverts the condition inside the ()\n",
    "filter_names = (names == 'Bob') | (names == 'Will') # or condition to filter both these conditions\n",
    "data[filter_names]\n",
    "data[data < 0] = 0 # sets all of the negative values in data to 0\n",
    "data\n",
    "data[names != 'Joe'] = 7 # sets all the rows not aligned with 'Joe' to 7\n",
    "print(names)\n",
    "print(data)"
   ]
  },
  {
   "cell_type": "markdown",
   "metadata": {},
   "source": [
    "### Transposing Arrays and Swapping Axes"
   ]
  },
  {
   "cell_type": "code",
   "execution_count": null,
   "metadata": {},
   "outputs": [],
   "source": [
    "arr = np.arange(15).reshape(3,5) # assigned sequence from 1 to 14, the reshape to a 3 by 5 2D array\n",
    "arr\n",
    "arr.T # transposes the array\n",
    "arr = np.random.randn(6,3)\n",
    "np.dot(arr.T, arr) # calculates the dot product of the arr array"
   ]
  },
  {
   "cell_type": "markdown",
   "metadata": {},
   "source": [
    "### Array functions\n",
    "fast element wise functions"
   ]
  },
  {
   "cell_type": "code",
   "execution_count": null,
   "metadata": {},
   "outputs": [],
   "source": [
    "arr = np.arange(10)\n",
    "np.sqrt(arr)\n",
    "np.exp(arr)\n",
    "x = np.random.randn(8) # creates and array of 8 random numbers\n",
    "y = np.random.randn(8)\n",
    "np.maximum(x, y) # selects the maximum values within each array\n"
   ]
  },
  {
   "cell_type": "markdown",
   "metadata": {},
   "source": [
    "### Array-oriented programming with arrays"
   ]
  },
  {
   "cell_type": "code",
   "execution_count": null,
   "metadata": {},
   "outputs": [],
   "source": [
    "points = np.arange(-5, 5, 0.01) # creates 1000 equally spaced points with a 0.01 step\n",
    "xs, ys = np.meshgrid(points, points) # this function takes a 1D array and produces a 2D matrix, creates two 2D matrixes\n",
    "z = np.sqrt(xs ** 2 + ys ** 2) # this calculates the Pythagorean therom\n",
    "\n",
    "import matplotlib.pyplot as plt\n",
    "plt.imshow(z, cmap=plt.cm.gray); plt.colorbar()\n",
    "plt.title(\"Image plot of $\\sqrt{x^2 + y^2}$ for a grid of values\")"
   ]
  },
  {
   "cell_type": "markdown",
   "metadata": {},
   "source": [
    "### Expressing Conditional Logic as Array Operations\n",
    "np.where function allows for condions"
   ]
  },
  {
   "cell_type": "code",
   "execution_count": null,
   "metadata": {},
   "outputs": [],
   "source": [
    "xarr = np.array([1.1, 1.2, 1.3, 1.4, 1.5])\n",
    "yarr = np.array([2.1, 2.2, 2.3, 2.4, 2.5])\n",
    "cond = np.array([True, False, True, True, False]) # this is the conditional array we will use in the np.where function\n",
    "result = np.where(cond, xarr, yarr) # create an array where the entries are taken from the true condition elements. Second and third arguments are arrays\n",
    "print(result)\n",
    "arr = np.random.randn(4,4)\n",
    "arr > 0 # create a boolean array for all values greater than 0\n",
    "np.where(arr > 2, 2, -2) # second and third arguments are scalers, this replaces positive values with 2 and negative values with -2\n",
    "print(np.where(arr > 2, 2, arr)) # # this uses one scaler and one array. THis replaces all positive values with 2 only. \n"
   ]
  },
  {
   "cell_type": "markdown",
   "metadata": {},
   "source": [
    "### Methods for boolean arrays and sorting\n",
    "summing booleans counts the true values"
   ]
  },
  {
   "cell_type": "code",
   "execution_count": null,
   "metadata": {},
   "outputs": [],
   "source": [
    "arr = np.random.randn(100)\n",
    "(arr > 0).sum() # counts the number of positive values\n",
    "bools = np.array([False, False, True, False]) # an array of booleans\n",
    "bools.any() # checks if any are True, returns a boolean\n",
    "bools.all() # Cchecks to see if all are false, returns a boolean\n",
    "# sorting\n",
    "arr = np.random.randn(6)\n",
    "print(arr)\n",
    "arr.sort()\n",
    "print(arr)\n",
    "# we can sort one-dimensional sections of an array\n",
    "arr = np.random.rand(5,3)\n",
    "print(arr)\n",
    "arr.sort(0) # axis = 0 compute the sort down the rows. axis = 1 compute the sort accross the columns\n",
    "print(arr)\n"
   ]
  },
  {
   "cell_type": "markdown",
   "metadata": {},
   "source": [
    "### Unique and other set logic\n",
    "some functions: unique(x), intersect1d(x,y), union1d(x,y), setdiff1d(x, y)"
   ]
  },
  {
   "cell_type": "code",
   "execution_count": null,
   "metadata": {},
   "outputs": [],
   "source": [
    "names = np.array(['Bob', 'Joe', 'Will', 'Bob', 'Will', 'Joe', 'Joe'])\n",
    "np.unique(names) # returns the unique set of names inside the array\n",
    "values = np.array([6, 0, 0, 3, 2, 5, 6])\n",
    "np.in1d(values, [2, 3, 6]) # returns a boolean of where the elements are located in the array\n"
   ]
  }
 ],
 "metadata": {
  "interpreter": {
   "hash": "cc897af4fc6401c11359697fcbb52d9351578d8478d87d3dbab7c5724e632931"
  },
  "kernelspec": {
   "display_name": "Python 3.8.8 ('base')",
   "language": "python",
   "name": "python3"
  },
  "language_info": {
   "codemirror_mode": {
    "name": "ipython",
    "version": 3
   },
   "file_extension": ".py",
   "mimetype": "text/x-python",
   "name": "python",
   "nbconvert_exporter": "python",
   "pygments_lexer": "ipython3",
   "version": "3.8.8"
  },
  "orig_nbformat": 4
 },
 "nbformat": 4,
 "nbformat_minor": 2
}
