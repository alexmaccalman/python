{
 "cells": [
  {
   "cell_type": "markdown",
   "metadata": {},
   "source": [
    "# Scrap from web watch characteristics\n",
    "[apple](https://support.apple.com/kb/SP746?locale=en_US)  \n",
    "  \n",
    "[fitbit](https://www.smartwatchseries.com/fitbit-charge-3-full-specifications-and-features/#:~:text=1%20Tracking%20steps%20you%20climbed.%202%20It%20also,of%20sedentary%20times%20and%20encourages%20you%20to%20walk.)\n",
    "\n",
    "[tutorial](https://www.geeksforgeeks.org/python-web-scraping-tutorial/)  "
   ]
  },
  {
   "cell_type": "code",
   "execution_count": null,
   "metadata": {},
   "outputs": [],
   "source": []
  }
 ],
 "metadata": {
  "language_info": {
   "name": "python"
  },
  "orig_nbformat": 4
 },
 "nbformat": 4,
 "nbformat_minor": 2
}
