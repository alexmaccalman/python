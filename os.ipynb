{
 "cells": [
  {
   "cell_type": "code",
   "execution_count": 49,
   "metadata": {},
   "outputs": [
    {
     "name": "stdout",
     "output_type": "stream",
     "text": [
      "c:\\Users\\alexander.d.maccalma\\OneDrive - United States Army\\Desktop\\pynbs\n",
      "c:\\Users\\alexander.d.maccalma\\OneDrive - United States Army\\Desktop\\pynbs\\mydir\n",
      "c:\\Users\\alexander.d.maccalma\\OneDrive - United States Army\\Desktop\\pynbs\\mydir\n",
      "c:\\Users\\alexander.d.maccalma\\OneDrive - United States Army\\Desktop\\pynbs\n",
      "['.git', 'mydir', 'os.ipynb', 'quiz_game.py', 'structures.ipynb']\n"
     ]
    }
   ],
   "source": [
    "import os\n",
    "# get working dir\n",
    "print(os.getcwd())\n",
    "# create dir inside current dir\n",
    "newdir = 'mydir'\n",
    "newpath = os.getcwd() + '\\\\' + newdir\n",
    "print(newpath)\n",
    "if not os.path.exists(newpath):\n",
    "    os.mkdir(newdir)\n",
    "\n",
    "os.chdir('mydir') # change the working dir\n",
    "print(os.getcwd())\n",
    "os.chdir('..') # change to parent dir\n",
    "print(os.getcwd())\n",
    "# to list files and dir in specified dir\n",
    "print(os.listdir())\n",
    "os.rmdir('mydir') # remove dir\n"
   ]
  },
  {
   "cell_type": "code",
   "execution_count": null,
   "metadata": {},
   "outputs": [],
   "source": []
  },
  {
   "cell_type": "code",
   "execution_count": 48,
   "metadata": {},
   "outputs": [
    {
     "data": {
      "text/plain": [
       "['.git', 'os.ipynb', 'quiz_game.py', 'structures.ipynb']"
      ]
     },
     "execution_count": 48,
     "metadata": {},
     "output_type": "execute_result"
    }
   ],
   "source": [
    "os.listdir()"
   ]
  },
  {
   "cell_type": "code",
   "execution_count": null,
   "metadata": {},
   "outputs": [],
   "source": []
  }
 ],
 "metadata": {
  "interpreter": {
   "hash": "b6ea79350e0cf5f12a8ef55877be593f41b3a01c1e3552cd15d9ee3fb9edf73c"
  },
  "kernelspec": {
   "display_name": "Python 3.8.12 ('default-python3')",
   "language": "python",
   "name": "python3"
  },
  "language_info": {
   "codemirror_mode": {
    "name": "ipython",
    "version": 3
   },
   "file_extension": ".py",
   "mimetype": "text/x-python",
   "name": "python",
   "nbconvert_exporter": "python",
   "pygments_lexer": "ipython3",
   "version": "3.8.8"
  },
  "orig_nbformat": 4
 },
 "nbformat": 4,
 "nbformat_minor": 2
}
