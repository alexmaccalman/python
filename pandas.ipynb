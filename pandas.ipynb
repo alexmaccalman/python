{
 "cells": [
  {
   "cell_type": "markdown",
   "metadata": {},
   "source": [
    "# Pandas\n",
    "### Series and DataFrames\n",
    "series are very simliar to dictionaries. They have indexes like keys. Series are different than arratys because they have indexes."
   ]
  },
  {
   "cell_type": "code",
   "execution_count": null,
   "metadata": {},
   "outputs": [],
   "source": [
    "import pandas as pd\n",
    "import numpy as np\n",
    "# series are 1D arrays with labels called indexes and values\n",
    "obj = pd.Series([4,7,-5,3])\n",
    "obj.values # lists out the values\n",
    "obj.index # shows indexes like the range object\n",
    "# we can set the labels by specifying the indeses\n",
    "obj2 = pd.Series([4,7,-5,3], index=['d', 'b', 'a', 'c'])\n",
    "obj2\n",
    "obj2['a'] # we can index single or subsets of values\n",
    "obj2['a'] = 6 # assign to an index\n",
    "obj2[['a', 'd']]\n",
    "obj2[obj2 > 0] # conditionals will get subsets of series\n",
    "obj2 * 2 # we can scale the series\n",
    "np.exp(obj2) # we can pass series into numpy functions\n",
    "'b' in obj2 # checks to see if and index is inside the Series\n",
    "# if we have a dictionary, we can make it a pandas series\n",
    "sdata = {'Ohio': 35000, 'Texas': 71000, 'Oregon': 16000, 'Utah': 5000}\n",
    "obj3 = pd.Series(sdata)\n",
    "obj3\n",
    "# when passing a dict, we can specify an order\n",
    "states = ['California', 'Ohio', 'Oregon', 'Texas'] # this is the index order we want\n",
    "obj4 = pd.Series(sdata, index=states)\n",
    "print(obj4) # notice that California was not matached up so it was assigned a NaN. Also Utah was not in the states list so it was not included\n",
    "pd.isnull(obj4) # checks for where there is a null, returns a boolean\n",
    "pd.notnull(obj4) \n",
    "obj4.isnull() # also can use as a method\n",
    "# adding series align to the same indexes\n",
    "obj3 + obj4\n",
    "# we can assign name and index attributes to the series\n",
    "obj4.name = 'population'\n",
    "obj4.index.name = 'state'\n",
    "print(obj4)"
   ]
  },
  {
   "cell_type": "markdown",
   "metadata": {},
   "source": [
    "### DataFrame\n",
    "a rectangular table of data with a collection of columns, each of which can be a different value type.\n",
    "It has a row and a column index"
   ]
  },
  {
   "cell_type": "code",
   "execution_count": null,
   "metadata": {},
   "outputs": [],
   "source": [
    "# common what to create a DataFrame is with a dictionary\n",
    "data = {'state': ['Ohio', 'Ohio', 'Ohio', 'Nevada', 'Nevada', 'Nevada'],\n",
    "        'year': [2000, 2001, 2002, 2001, 2002, 2003],\n",
    "        'pop': [1.5, 1.7, 3.6, 2.4, 2.9, 3.2]}\n",
    "frame = pd.DataFrame(data)\n",
    "frame.head()\n",
    "pd.DataFrame(data, columns=['year', 'state', 'pop']) # we can specify the order we want\n",
    "# when we pass a column that is not contained in the dictionary it will appear with missing values\n",
    "frame2 = pd.DataFrame(data, columns=['year', 'state', 'pop', 'debt'],\n",
    "                      index=['one', 'two', 'three', 'four','five', 'six'])\n",
    "frame2\n",
    "frame2['state'] # resutls the state index\n",
    "frame.year # returns the year column when using the attribute\n",
    "# rows can be retrieved by position or name\n",
    "frame2.loc['three'] # retrieve by name\n",
    "frame2['debt'] = 16.5 # assigns a scaler to the dept column\n",
    "frame2['debt'] = np.arange(6.) # use a np function arange to assign 0.0 to 6.0 to the dept column\n",
    "# values will align exactly to the Dataframe's index and insert missing vlaues in any holes\n",
    "val = pd.Series([-1.2, -1.5, -1.7], index=['two', 'four', 'five']) # a set of 3 values\n",
    "frame2['debt'] = val # assigns values that match and missing values that donot match.\n",
    "frame2\n",
    "\n",
    "frame2['eastern'] = frame2.state == 'Ohio' # assigns a new column called eastern with a boolean if state col == Ohio\n",
    "frame2\n",
    "# note: cannot create a new column with an attribute, frame2.eastern\n",
    "del frame2['eastern'] # deletes a column\n",
    "\n",
    "# another form of data is a nested dict of dicts\n",
    "pop = {'Nevada': {2001: 2.4, 2002: 2.9},\n",
    "       'Ohio': {2000: 1.5, 2001: 1.7, 2002: 3.6}}\n",
    "# pandas will interpret the outer dict keys as the columns and the inner keys as the row indices\n",
    "frame3 = pd.DataFrame(pop)\n",
    "frame3\n",
    "frame3.T # transpose the DataFrame (swap rows and columns)\n",
    "print(pd.DataFrame(pop, index=[2001, 2002, 2003])) #explicitly specify the index notice that 2033 gets assigned NaN values because they don't exist in frame3\n",
    "frame3.index.name = 'year'; frame3.columns.name = 'state' # this sets the name attribute to the index (row) and the columns\n",
    "frame3\n",
    "frame3.values # returns the values as a 2D ndarray\n",
    "frame2.values"
   ]
  },
  {
   "cell_type": "markdown",
   "metadata": {},
   "source": [
    "### Index Objects and Essential Functionality\n",
    "index objects hold axis labels and names. Index objects are immutable"
   ]
  },
  {
   "cell_type": "code",
   "execution_count": null,
   "metadata": {},
   "outputs": [],
   "source": [
    "# pandas indexes can contain duplicate labels\n",
    "dup_labels = pd.Index(['foo', 'foo','bar', 'bar']) # selections with duplicate lables will select all occurances of that label\n",
    "dup_labels\n",
    "\n",
    "# reindexing\n",
    "obj = pd.Series([4.5, 7.2, -5.3, 3.6], index=['d', 'b', 'a', 'c']) # defines a series with index\n",
    "obj2 - obj.reindex(['a', 'b', 'c', 'd', 'e']) # rearrange the data according to the new index, introducing missing values where no already present\n",
    "# we can interpolate or fill in vlaues when reindexing\n",
    "obj3 = pd.Series(['blue', 'purple', 'yellow'], index=[0, 2, 4]) # defines a series with an i ndex\n",
    "obj3\n",
    "obj3.reindex(range(6), method = 'ffill') # reindex's with the ffill method, filling foward, bfill filles backward\n",
    "obj3\n",
    "# assigns a 3 by 3 matric with arange from 0 to 8 with specified index and column indexes\n",
    "frame = pd.DataFrame(np.arange(9).reshape((3, 3)),\n",
    "                     index=['a', 'c', 'd'],\n",
    "                     columns=['Ohio', 'Texas', 'California'])\n",
    "            \n",
    "print(frame)\n",
    "states = ['Texas', 'Utah', 'California']\n",
    "frame.reindex(columns=states) # here we reindex with a column keyword states\n"
   ]
  },
  {
   "cell_type": "markdown",
   "metadata": {},
   "source": [
    "### Dropping Entries from an Axis"
   ]
  },
  {
   "cell_type": "code",
   "execution_count": null,
   "metadata": {},
   "outputs": [],
   "source": [
    "obj = pd.Series(np.arange(5.), index=['a', 'b', 'c', 'd', 'e']) # defines a series and an index\n",
    "new_obj = obj.drop('c') # defines a new series with one of the rows represented by the 'c' index dropped\n",
    "new_obj\n",
    "obj.drop(['d', 'c']) # this drops two indexes/ rows. Notice we need to use a list []\n",
    "# define a matirc with a index and column defined\n",
    "data = pd.DataFrame(np.arange(16).reshape((4, 4)),\n",
    "                    index=['Ohio', 'Colorado', 'Utah', 'New York'],\n",
    "                    columns=['one', 'two', 'three', 'four'])\n",
    "data\n",
    "data.drop(['Colorado', 'Ohio']) # this drops the index labels (rows) \n",
    "data.drop('two', axis=1) # this drops a column. We must specify an axis either 0 or 'index' for the rows and 1 or 'columns fr the columns\n",
    "data.drop(['two', 'four'], axis='columns') # drops two columns"
   ]
  },
  {
   "cell_type": "markdown",
   "metadata": {},
   "source": [
    "### Indexing, Sorting, and Filtering\n",
    "loc and iloc enable us ot select a subset of rows and columns from a DataFRame"
   ]
  },
  {
   "cell_type": "code",
   "execution_count": null,
   "metadata": {},
   "outputs": [],
   "source": [
    "obj = pd.Series(np.arange(4.), index=['a', 'b', 'c', 'd']) # defines a series with an index\n",
    "obj['b'] # selects or indexes on 'b'\n",
    "obj[1]# we can also use the numbered index\n",
    "obj[2:4] # this gets a slcie\n",
    "obj[['b', 'a', 'd']] # this get a subset. notice it needs a list insldue []\n",
    "obj[[1, 3]] # same here only using numbered index\n",
    "obj[obj < 2] # returns the index values that satisy a specificed condition\n",
    "# defines a 4 by 4 matrix with index and columns labels\n",
    "data = pd.DataFrame(np.arange(16).reshape((4, 4)),\n",
    "                    index=['Ohio', 'Colorado', 'Utah', 'New York'],\n",
    "                    columns=['one', 'two', 'three', 'four'])\n",
    "print(data['two']) # acceses one column\n",
    "print(data[['three', 'one']]) # access two columns. notice we need a list []\n",
    "print(data)\n",
    "data[data['three'] > 5] # selects the row indexes that are greateer than 5 within the 'three' column label.\n",
    "data < 5 # produces a boolean DataFrame, sets TRue for all values < 5\n",
    "data[data < 5] = 0 # sets all values < 5 to the value of 0\n",
    "data\n"
   ]
  },
  {
   "cell_type": "markdown",
   "metadata": {},
   "source": [
    "### Selection with loc and iloc\n",
    "loc uses axis labels (index or columns) and iloc uses integers"
   ]
  },
  {
   "cell_type": "code",
   "execution_count": null,
   "metadata": {},
   "outputs": [],
   "source": [
    "data.loc['Colorado', ['two', 'three']]  # selects the row label index 'Colorado' and 2 column labels\n",
    "data.iloc[2, [3,0,1]] # returns the third row or axis 'Utah' and the specified column integers \n",
    "data.index\n",
    "print(data)\n",
    "data.loc[:, 'one'] # selects a single column\n",
    "data.loc['Ohio', 'one'] # selects a row and column by label\n",
    "data.iloc[0] # selects a single row by integer position\n",
    "data.iloc[:, 0] # selects a single column by integer position\n",
    "data.iloc[0,0]# # selects a row and column by integer position  \n"
   ]
  },
  {
   "cell_type": "markdown",
   "metadata": {},
   "source": [
    "### Arithmetic and Data Alignment\n",
    "when adding together objects, if any index pairs are not the same, the respective index in the result will be the union of the index pairs, like a outer join"
   ]
  },
  {
   "cell_type": "code",
   "execution_count": null,
   "metadata": {},
   "outputs": [],
   "source": [
    "s1 = pd.Series([7.3, -2.5, 3.4, 1.5], index=['a', 'c', 'd', 'e'])\n",
    "s2 = pd.Series([-2.1, 3.6, -1.5, 4, 3.1], index=['a', 'c', 'e', 'f', 'g'])\n",
    "s1 + s2\n",
    "\n",
    "df1 = pd.DataFrame(np.arange(9.).reshape((3, 3)), columns=list('bcd'), index=['Ohio', 'Texas', 'Colorado'])\n",
    "df2 = pd.DataFrame(np.arange(12.).reshape((4, 3)), columns=list('bde'), index=['Utah', 'Ohio', 'Texas', 'Oregon'])\n",
    "df1 + df2\n",
    "\n",
    "list('abcd') # this creates a list. a good way to assign labels\n",
    "df1 = pd.DataFrame(np.arange(12.).reshape((3, 4)), columns=list('abcd'))\n",
    "df2 = pd.DataFrame(np.arange(20.).reshape((4, 5)), columns=list('abcde'))\n",
    "# assign a value to nan using numpy\n",
    "df2.loc[1, 'b'] = np.nan # becasue there is no assigned labels to the index we use the intege value to index it\n",
    "df1 + df2 # adding these together results in NA values in the locations that don't overlap"
   ]
  },
  {
   "cell_type": "markdown",
   "metadata": {},
   "source": [
    "### Function Application and Mapping\n",
    "numpy ufuncs work on pandas objects"
   ]
  },
  {
   "cell_type": "code",
   "execution_count": null,
   "metadata": {},
   "outputs": [],
   "source": [
    "frame = pd.DataFrame(np.random.randn(4, 3), columns=list('bde'), index=['Utah', 'Ohio', 'Texas', 'Oregon'])\n",
    "print(frame)\n",
    "np.abs(frame)\n",
    "# DataFrame's apply function applies a function on 1D arrays to each column or row\n",
    "f = lambda x: x.max() - x.min() # define a function that substracts the min of x from the max of x\n",
    "frame.apply(f) # applies the lamda function for all the columns in the frame DataFrame. it is invoked once on each column. The resutl is a series with the columns as the indexes\n",
    "# if we pass axis='columns' to apply, the function will be invoked once per row\n",
    "frame.apply(f, axis = 'columns')\n"
   ]
  },
  {
   "cell_type": "code",
   "execution_count": null,
   "metadata": {},
   "outputs": [],
   "source": [
    "# return a series with multiple vlaue results\n",
    "f = lambda x: pd.Series([x.min(), x.max()], index=['min', 'max'])\n",
    "frame.apply(f)"
   ]
  },
  {
   "cell_type": "code",
   "execution_count": null,
   "metadata": {},
   "outputs": [],
   "source": [
    "# to apply element-wise nstead of a whole series we can use the applymap function\n",
    "format = lambda x: '%.2f' % x\n",
    "frame.applymap(format)\n"
   ]
  },
  {
   "cell_type": "code",
   "execution_count": null,
   "metadata": {},
   "outputs": [],
   "source": [
    "# a Series also has a function like this called map\n",
    "frame['e'].map(format)"
   ]
  },
  {
   "cell_type": "markdown",
   "metadata": {},
   "source": [
    "### Sorting and Ranking"
   ]
  },
  {
   "cell_type": "code",
   "execution_count": null,
   "metadata": {},
   "outputs": [],
   "source": [
    "obj = pd.Series(range(4), index=['d', 'a', 'b', 'c'])\n",
    "obj.sort_index() # sort by thr index (letters in this case)\n"
   ]
  },
  {
   "cell_type": "code",
   "execution_count": null,
   "metadata": {},
   "outputs": [],
   "source": [
    "frame = pd.DataFrame(np.arange(8).reshape((2, 4)), index=['three', 'one'], columns=['d', 'a', 'b', 'c'])\n",
    "frame.sort_index() # sorts DataFrame by index\n",
    "frame.sort_index(axis=1) # sorts DataFrame by column, axis = 1"
   ]
  },
  {
   "cell_type": "code",
   "execution_count": null,
   "metadata": {},
   "outputs": [],
   "source": [
    "frame.sort_index(axis=1, ascending=False) # sorts in decending order"
   ]
  },
  {
   "cell_type": "code",
   "execution_count": null,
   "metadata": {},
   "outputs": [],
   "source": [
    "obj = pd.Series([4, 7, -3, 2])\n",
    "obj.sort_values() # sort by the values"
   ]
  },
  {
   "cell_type": "code",
   "execution_count": null,
   "metadata": {},
   "outputs": [],
   "source": [
    "obj = pd.Series([4, np.nan, 7, np.nan, -3, 2])\n",
    "obj.sort_values() # missing vlaues are sorteed at the end of the series by default"
   ]
  },
  {
   "cell_type": "code",
   "execution_count": null,
   "metadata": {},
   "outputs": [],
   "source": [
    "frame = pd.DataFrame({'b': [4, 7, -3, 2], 'a': [0, 1, 0, 1]})\n",
    "frame.sort_values(by='b') # sorts DataFRame by column 'b'"
   ]
  },
  {
   "cell_type": "code",
   "execution_count": null,
   "metadata": {},
   "outputs": [],
   "source": [
    "frame.sort_values(by=['a', 'b']) # sorts byt multiple columns, must pass a list"
   ]
  },
  {
   "cell_type": "code",
   "execution_count": null,
   "metadata": {},
   "outputs": [],
   "source": [
    "# the rank function assigns a rank to each index based on the value\n",
    "obj = pd.Series([7, -5, 7, 4, 2, 0, 4])\n",
    "obj.rank() # rank() ranks the series or DataFrame. by default, breaks ties by assigning each group mean rank"
   ]
  },
  {
   "cell_type": "code",
   "execution_count": null,
   "metadata": {},
   "outputs": [],
   "source": [
    "# to assign according to the order in which they are observed\n",
    "obj.rank(method='first')"
   ]
  },
  {
   "cell_type": "markdown",
   "metadata": {},
   "source": [
    "### Sumermarizing and Computing Descriptive Statistics\n",
    "pandas have a set of statistical methods. HAve built0in handling for missing data"
   ]
  },
  {
   "cell_type": "code",
   "execution_count": null,
   "metadata": {},
   "outputs": [],
   "source": [
    "df = pd.DataFrame([[1.4, np.nan], [7.1, -4.5],\n",
    "                   [np.nan, np.nan], [0.75, -1.3]],\n",
    "                  index=['a', 'b', 'c', 'd'],\n",
    "                  columns=['one', 'two'])\n",
    "df"
   ]
  },
  {
   "cell_type": "code",
   "execution_count": null,
   "metadata": {},
   "outputs": [],
   "source": [
    "df.sum() # sums up each series or column in hte DataFrame"
   ]
  },
  {
   "cell_type": "code",
   "execution_count": null,
   "metadata": {},
   "outputs": [],
   "source": [
    "df.sum(axis='columns') # sums accross the columns when axis= 'columns or axis = 1"
   ]
  },
  {
   "cell_type": "code",
   "execution_count": null,
   "metadata": {},
   "outputs": [],
   "source": [
    "df.mean(axis='columns', skipna = False) # setting to false will skip the calculation of there are any NaN. True will just drop the NaN value in calculation"
   ]
  },
  {
   "cell_type": "code",
   "execution_count": null,
   "metadata": {},
   "outputs": [],
   "source": [
    "df.cumsum() # calculates the accumulation down each of the columns"
   ]
  },
  {
   "cell_type": "code",
   "execution_count": null,
   "metadata": {},
   "outputs": [],
   "source": [
    "df.describe() # provides the full set of summary stats"
   ]
  },
  {
   "cell_type": "code",
   "execution_count": null,
   "metadata": {},
   "outputs": [],
   "source": [
    "obj = pd.Series(['a', 'a', 'b', 'c'] * 4)\n",
    "obj.describe() # non-numeric produces alternate summary"
   ]
  },
  {
   "cell_type": "markdown",
   "metadata": {},
   "source": [
    "### Correlation and Covariance\n",
    "conda install panda-datareader"
   ]
  },
  {
   "cell_type": "code",
   "execution_count": null,
   "metadata": {},
   "outputs": [],
   "source": [
    "import pandas_datareader.data as web\n",
    "all_data = {ticker: web.get_data_yahoo(ticker) for ticker in ['AAPL', 'IBM', 'MSFT', 'GOOG']}\n",
    "price = pd.DataFrame({ticker: data['Adj Close'] for ticker, data in all_data.items()})\n",
    "volume = pd.DataFrame({ticker: data['Volume'] for ticker, data in all_data.items()})"
   ]
  },
  {
   "cell_type": "code",
   "execution_count": null,
   "metadata": {},
   "outputs": [],
   "source": [
    "returns = price.pct_change() # computes the percent changes of the proces\n",
    "returns.tail() # returns the tail of hte DataFrame"
   ]
  },
  {
   "cell_type": "code",
   "execution_count": null,
   "metadata": {},
   "outputs": [],
   "source": [
    "# calculates the corr and cov between MSFT and IBM\n",
    "returns['MSFT'].corr(returns['IBM'])\n",
    "returns['MSFT'].cov(returns['IBM'])"
   ]
  },
  {
   "cell_type": "code",
   "execution_count": null,
   "metadata": {},
   "outputs": [],
   "source": [
    "returns.MSFT.corr(returns.IBM) # a better way to do the same thing"
   ]
  },
  {
   "cell_type": "code",
   "execution_count": null,
   "metadata": {},
   "outputs": [],
   "source": [
    "returns.corr() # returns the full correlation matrix as a DataFrame"
   ]
  },
  {
   "cell_type": "code",
   "execution_count": null,
   "metadata": {},
   "outputs": [],
   "source": [
    "returns.corrwith(returns.IBM) # returns the correlation of one columns (IBM) with all the others"
   ]
  },
  {
   "cell_type": "markdown",
   "metadata": {},
   "source": [
    "### Unique Values, Value Counts, and Membersip"
   ]
  },
  {
   "cell_type": "code",
   "execution_count": null,
   "metadata": {},
   "outputs": [],
   "source": [
    "obj = pd.Series(['c', 'a', 'd', 'a', 'a', 'b', 'b', 'c', 'c'])\n",
    "obj.unique() # returns the unique values within this series"
   ]
  },
  {
   "cell_type": "code",
   "execution_count": null,
   "metadata": {},
   "outputs": [],
   "source": [
    "obj.value_counts() # retunrs the count of frequencies of the unique values"
   ]
  },
  {
   "cell_type": "code",
   "execution_count": null,
   "metadata": {},
   "outputs": [],
   "source": [
    "# is in checks for wheter items are in series\n",
    "obj\n",
    "mask = obj.isin(['b', 'c']) # create a boolean\n",
    "obj[mask] # passes a boolean to filter on"
   ]
  },
  {
   "cell_type": "code",
   "execution_count": null,
   "metadata": {},
   "outputs": [],
   "source": []
  }
 ],
 "metadata": {
  "interpreter": {
   "hash": "cc897af4fc6401c11359697fcbb52d9351578d8478d87d3dbab7c5724e632931"
  },
  "kernelspec": {
   "display_name": "Python 3.8.8 ('base')",
   "language": "python",
   "name": "python3"
  },
  "language_info": {
   "codemirror_mode": {
    "name": "ipython",
    "version": 3
   },
   "file_extension": ".py",
   "mimetype": "text/x-python",
   "name": "python",
   "nbconvert_exporter": "python",
   "pygments_lexer": "ipython3",
   "version": "3.8.8"
  },
  "orig_nbformat": 4
 },
 "nbformat": 4,
 "nbformat_minor": 2
}
