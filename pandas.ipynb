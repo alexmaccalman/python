{
 "cells": [
  {
   "cell_type": "markdown",
   "metadata": {},
   "source": [
    "# Pandas\n",
    "### Series and DataFrames\n",
    "series are very simliar to dictionaries. They have indexes like keys. Series are different than arratys because they have indexes."
   ]
  },
  {
   "cell_type": "code",
   "execution_count": null,
   "metadata": {},
   "outputs": [],
   "source": [
    "import pandas as pd\n",
    "import numpy as np\n",
    "# series are 1D arrays with labels called indexes and values\n",
    "obj = pd.Series([4,7,-5,3])\n",
    "obj.values # lists out the values\n",
    "obj.index # shows indexes like the range object\n",
    "# we can set the labels by specifying the indeses\n",
    "obj2 = pd.Series([4,7,-5,3], index=['d', 'b', 'a', 'c'])\n",
    "obj2\n",
    "obj2['a'] # we can index single or subsets of values\n",
    "obj2['a'] = 6 # assign to an index\n",
    "obj2[['a', 'd']]\n",
    "obj2[obj2 > 0] # conditionals will get subsets of series\n",
    "obj2 * 2 # we can scale the series\n",
    "np.exp(obj2) # we can pass series into numpy functions\n",
    "'b' in obj2 # checks to see if and index is inside the Series\n",
    "# if we have a dictionary, we can make it a pandas series\n",
    "sdata = {'Ohio': 35000, 'Texas': 71000, 'Oregon': 16000, 'Utah': 5000}\n",
    "obj3 = pd.Series(sdata)\n",
    "obj3\n",
    "# when passing a dict, we can specify an order\n",
    "states = ['California', 'Ohio', 'Oregon', 'Texas'] # this is the index order we want\n",
    "obj4 = pd.Series(sdata, index=states)\n",
    "print(obj4) # notice that California was not matached up so it was assigned a NaN. Also Utah was not in the states list so it was not included\n",
    "pd.isnull(obj4) # checks for where there is a null, returns a boolean\n",
    "pd.notnull(obj4) \n",
    "obj4.isnull() # also can use as a method\n",
    "# adding series align to the same indexes\n",
    "obj3 + obj4\n",
    "# we can assign name and index attributes to the series\n",
    "obj4.name = 'population'\n",
    "obj4.index.name = 'state'\n",
    "print(obj4)"
   ]
  },
  {
   "cell_type": "markdown",
   "metadata": {},
   "source": [
    "### DataFrame\n",
    "a rectangular table of data with a collection of columns, each of which can be a different value type.\n",
    "It has a row and a column index"
   ]
  },
  {
   "cell_type": "code",
   "execution_count": 51,
   "metadata": {},
   "outputs": [
    {
     "data": {
      "text/html": [
       "<div>\n",
       "<style scoped>\n",
       "    .dataframe tbody tr th:only-of-type {\n",
       "        vertical-align: middle;\n",
       "    }\n",
       "\n",
       "    .dataframe tbody tr th {\n",
       "        vertical-align: top;\n",
       "    }\n",
       "\n",
       "    .dataframe thead th {\n",
       "        text-align: right;\n",
       "    }\n",
       "</style>\n",
       "<table border=\"1\" class=\"dataframe\">\n",
       "  <thead>\n",
       "    <tr style=\"text-align: right;\">\n",
       "      <th></th>\n",
       "      <th>2001</th>\n",
       "      <th>2002</th>\n",
       "      <th>2000</th>\n",
       "    </tr>\n",
       "  </thead>\n",
       "  <tbody>\n",
       "    <tr>\n",
       "      <th>Nevada</th>\n",
       "      <td>2.4</td>\n",
       "      <td>2.9</td>\n",
       "      <td>NaN</td>\n",
       "    </tr>\n",
       "    <tr>\n",
       "      <th>Ohio</th>\n",
       "      <td>1.7</td>\n",
       "      <td>3.6</td>\n",
       "      <td>1.5</td>\n",
       "    </tr>\n",
       "  </tbody>\n",
       "</table>\n",
       "</div>"
      ],
      "text/plain": [
       "        2001  2002  2000\n",
       "Nevada   2.4   2.9   NaN\n",
       "Ohio     1.7   3.6   1.5"
      ]
     },
     "execution_count": 51,
     "metadata": {},
     "output_type": "execute_result"
    }
   ],
   "source": [
    "# common what to create a DataFrame is with a dictionary\n",
    "data = {'state': ['Ohio', 'Ohio', 'Ohio', 'Nevada', 'Nevada', 'Nevada'],\n",
    "        'year': [2000, 2001, 2002, 2001, 2002, 2003],\n",
    "        'pop': [1.5, 1.7, 3.6, 2.4, 2.9, 3.2]}\n",
    "frame = pd.DataFrame(data)\n",
    "frame.head()\n",
    "pd.DataFrame(data, columns=['year', 'state', 'pop']) # we can specify the order we want\n",
    "# when we pass a column that is not contained in the dictionary it will appear with missing values\n",
    "frame2 = pd.DataFrame(data, columns=['year', 'state', 'pop', 'debt'],\n",
    "                      index=['one', 'two', 'three', 'four','five', 'six'])\n",
    "frame2\n",
    "frame2['state'] # resutls the state index\n",
    "frame.year # returns the year column when using the attribute\n",
    "# rows can be retrieved by position or name\n",
    "frame2.loc['three'] # retrieve by name\n",
    "frame2['debt'] = 16.5 # assigns a scaler to the dept column\n",
    "frame2['debt'] = np.arange(6.) # use a np function arange to assign 0.0 to 6.0 to the dept column\n",
    "# values will align exactly to the Dataframe's index and insert missing vlaues in any holes\n",
    "val = pd.Series([-1.2, -1.5, -1.7], index=['two', 'four', 'five']) # a set of 3 values\n",
    "frame2['debt'] = val # assigns values that match and missing values that donot match.\n",
    "frame2\n",
    "\n",
    "frame2['eastern'] = frame2.state == 'Ohio' # assigns a new column called eastern with a boolean if state col == Ohio\n",
    "frame2\n",
    "# note: cannot create a new column with an attribute, frame2.eastern\n",
    "del frame2['eastern'] # deletes a column\n",
    "\n",
    "# another form of data is a nested dict of dicts\n",
    "pop = {'Nevada': {2001: 2.4, 2002: 2.9},\n",
    "       'Ohio': {2000: 1.5, 2001: 1.7, 2002: 3.6}}\n",
    "# pandas will interpret the outer dict keys as the columns and the inner keys as the row indices\n",
    "frame3 = pd.DataFrame(pop)\n",
    "frame3\n",
    "frame3.T # transpose the DataFrame (swap rows and columns)"
   ]
  },
  {
   "cell_type": "code",
   "execution_count": null,
   "metadata": {},
   "outputs": [],
   "source": []
  },
  {
   "cell_type": "code",
   "execution_count": null,
   "metadata": {},
   "outputs": [],
   "source": []
  }
 ],
 "metadata": {
  "interpreter": {
   "hash": "cc897af4fc6401c11359697fcbb52d9351578d8478d87d3dbab7c5724e632931"
  },
  "kernelspec": {
   "display_name": "Python 3.8.8 ('base')",
   "language": "python",
   "name": "python3"
  },
  "language_info": {
   "codemirror_mode": {
    "name": "ipython",
    "version": 3
   },
   "file_extension": ".py",
   "mimetype": "text/x-python",
   "name": "python",
   "nbconvert_exporter": "python",
   "pygments_lexer": "ipython3",
   "version": "3.8.8"
  },
  "orig_nbformat": 4
 },
 "nbformat": 4,
 "nbformat_minor": 2
}
